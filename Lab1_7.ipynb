{
 "cells": [
  {
   "cell_type": "markdown",
   "id": "ec6e7d18-6a6e-4a51-a7cd-0a1152604973",
   "metadata": {
    "id": "ec6e7d18-6a6e-4a51-a7cd-0a1152604973"
   },
   "source": [
    "## Лабораторная работа №1 | Вариант 7"
   ]
  },
  {
   "cell_type": "markdown",
   "id": "277877ce-f982-4711-a6a6-2a4a90871409",
   "metadata": {
    "id": "277877ce-f982-4711-a6a6-2a4a90871409"
   },
   "source": [
    "Выполнил:"
   ]
  },
  {
   "cell_type": "markdown",
   "id": "031f025d-84dc-470f-b839-456a76d9636b",
   "metadata": {
    "id": "031f025d-84dc-470f-b839-456a76d9636b"
   },
   "source": [
    "### 1. Numpy"
   ]
  },
  {
   "cell_type": "code",
   "execution_count": 1,
   "id": "8a2c6f8d-e85b-4982-ba6d-77ffdb7d53e8",
   "metadata": {
    "id": "8a2c6f8d-e85b-4982-ba6d-77ffdb7d53e8"
   },
   "outputs": [],
   "source": [
    "import numpy as np"
   ]
  },
  {
   "cell_type": "markdown",
   "id": "6ff3559d-5f3e-4540-9a31-bfb9f42a23da",
   "metadata": {
    "id": "6ff3559d-5f3e-4540-9a31-bfb9f42a23da"
   },
   "source": [
    "1. What is the result of the following expression?\n",
    "\n",
    "```python\n",
    "0 * np.nan\n",
    "np.nan == np.nan\n",
    "np.inf > np.nan\n",
    "np.nan - np.nan\n",
    "np.nan in set([np.nan])\n",
    "0.3 == 3 * 0.1\n",
    "```"
   ]
  },
  {
   "cell_type": "code",
   "execution_count": 2,
   "id": "752bc586-1e3f-4085-85c3-4068b781314f",
   "metadata": {
    "colab": {
     "base_uri": "https://localhost:8080/"
    },
    "id": "752bc586-1e3f-4085-85c3-4068b781314f",
    "outputId": "e909a537-0656-4f70-87f7-4c738ae2809f"
   },
   "outputs": [
    {
     "data": {
      "text/plain": [
       "nan"
      ]
     },
     "execution_count": 2,
     "metadata": {},
     "output_type": "execute_result"
    }
   ],
   "source": [
    "0 * np.nan"
   ]
  },
  {
   "cell_type": "code",
   "execution_count": 3,
   "id": "gD-iaAXBfky6",
   "metadata": {
    "colab": {
     "base_uri": "https://localhost:8080/"
    },
    "id": "gD-iaAXBfky6",
    "outputId": "b396b8c7-e3a6-4969-9081-43e798ef0f6f"
   },
   "outputs": [
    {
     "data": {
      "text/plain": [
       "False"
      ]
     },
     "execution_count": 3,
     "metadata": {},
     "output_type": "execute_result"
    }
   ],
   "source": [
    "np.nan == np.nan"
   ]
  },
  {
   "cell_type": "code",
   "execution_count": 4,
   "id": "xLtrD4AoflUY",
   "metadata": {
    "colab": {
     "base_uri": "https://localhost:8080/"
    },
    "id": "xLtrD4AoflUY",
    "outputId": "f7d00a6c-716c-4153-a5bb-7140c17aa528"
   },
   "outputs": [
    {
     "data": {
      "text/plain": [
       "False"
      ]
     },
     "execution_count": 4,
     "metadata": {},
     "output_type": "execute_result"
    }
   ],
   "source": [
    "np.inf > np.nan"
   ]
  },
  {
   "cell_type": "code",
   "execution_count": 5,
   "id": "8iY1uCgSfnv6",
   "metadata": {
    "colab": {
     "base_uri": "https://localhost:8080/"
    },
    "id": "8iY1uCgSfnv6",
    "outputId": "e762e0bd-034d-45cd-9c53-95b4276b3a6b"
   },
   "outputs": [
    {
     "data": {
      "text/plain": [
       "nan"
      ]
     },
     "execution_count": 5,
     "metadata": {},
     "output_type": "execute_result"
    }
   ],
   "source": [
    "np.nan - np.nan"
   ]
  },
  {
   "cell_type": "code",
   "execution_count": 6,
   "id": "FupHEkppfoRT",
   "metadata": {
    "colab": {
     "base_uri": "https://localhost:8080/"
    },
    "id": "FupHEkppfoRT",
    "outputId": "27f7def6-9ef5-4765-fcc3-78068ffe2f7a"
   },
   "outputs": [
    {
     "data": {
      "text/plain": [
       "True"
      ]
     },
     "execution_count": 6,
     "metadata": {},
     "output_type": "execute_result"
    }
   ],
   "source": [
    "np.nan in set([np.nan])"
   ]
  },
  {
   "cell_type": "code",
   "execution_count": 7,
   "id": "74djziP5fom7",
   "metadata": {
    "colab": {
     "base_uri": "https://localhost:8080/"
    },
    "id": "74djziP5fom7",
    "outputId": "7a7b6ec1-79a5-4bf1-c5d1-58ebd1d7bb38"
   },
   "outputs": [
    {
     "data": {
      "text/plain": [
       "False"
      ]
     },
     "execution_count": 7,
     "metadata": {},
     "output_type": "execute_result"
    }
   ],
   "source": [
    "0.3 == 3 * 0.1"
   ]
  },
  {
   "cell_type": "markdown",
   "id": "0243a0f6-1905-4e2d-9572-9ba49dc003a8",
   "metadata": {
    "id": "0243a0f6-1905-4e2d-9572-9ba49dc003a8"
   },
   "source": [
    "2. Создайте матрицу 5х5 со значениями 1, 2, 3, 4 ниже диагонали"
   ]
  },
  {
   "cell_type": "code",
   "execution_count": 8,
   "id": "ec6ae581-5adf-459c-bdc7-8b015d9529f6",
   "metadata": {
    "colab": {
     "base_uri": "https://localhost:8080/"
    },
    "id": "ec6ae581-5adf-459c-bdc7-8b015d9529f6",
    "outputId": "cf8ebbe9-f757-4d35-ce02-84cce7ae2280"
   },
   "outputs": [
    {
     "name": "stdout",
     "output_type": "stream",
     "text": [
      "[[1 0 0 0 0]\n",
      " [4 1 0 0 0]\n",
      " [3 4 1 0 0]\n",
      " [2 3 4 1 0]\n",
      " [1 2 3 4 1]]\n"
     ]
    }
   ],
   "source": [
    "mas = np.identity(5, dtype=int)\n",
    "array1 = np.array([1, 2, 3, 4])\n",
    "for i in range(5):\n",
    "  for j in range (5):\n",
    "    if i > j:\n",
    "      mas[i][j] = array1[j - i]\n",
    "print(mas)"
   ]
  },
  {
   "cell_type": "markdown",
   "id": "8c7d3811-a555-4c02-ada8-e4a70b9dee46",
   "metadata": {
    "id": "8c7d3811-a555-4c02-ada8-e4a70b9dee46"
   },
   "source": [
    "3. Создайте матрицу 8х8 и заполните ее паттерном шахматной доски"
   ]
  },
  {
   "cell_type": "code",
   "execution_count": 9,
   "id": "12d0ed34-908c-4840-8b81-457e64dd7b0b",
   "metadata": {
    "colab": {
     "base_uri": "https://localhost:8080/"
    },
    "id": "12d0ed34-908c-4840-8b81-457e64dd7b0b",
    "outputId": "5e2979cb-eeb4-4937-b306-2ba4c5482cff"
   },
   "outputs": [
    {
     "data": {
      "text/plain": [
       "array([[1, 0, 1, 0, 1, 0, 1, 0],\n",
       "       [0, 1, 0, 1, 0, 1, 0, 1],\n",
       "       [1, 0, 1, 0, 1, 0, 1, 0],\n",
       "       [0, 1, 0, 1, 0, 1, 0, 1],\n",
       "       [1, 0, 1, 0, 1, 0, 1, 0],\n",
       "       [0, 1, 0, 1, 0, 1, 0, 1],\n",
       "       [1, 0, 1, 0, 1, 0, 1, 0],\n",
       "       [0, 1, 0, 1, 0, 1, 0, 1]])"
      ]
     },
     "execution_count": 9,
     "metadata": {},
     "output_type": "execute_result"
    }
   ],
   "source": [
    "mas = np.zeros([8, 8], dtype = int)\n",
    "mas[::2, ::2] = 1\n",
    "mas[1::2, 1::2] = 1\n",
    "mas"
   ]
  },
  {
   "cell_type": "markdown",
   "id": "b7ca56e6-a194-4c42-b8a2-307fcf40f648",
   "metadata": {
    "id": "b7ca56e6-a194-4c42-b8a2-307fcf40f648"
   },
   "source": [
    "4. Умножте матрицу 5х3 и 3х2 (матричное умножение)"
   ]
  },
  {
   "cell_type": "code",
   "execution_count": 10,
   "id": "1b1d64cd-0e28-400f-8d49-a1274947e150",
   "metadata": {
    "colab": {
     "base_uri": "https://localhost:8080/"
    },
    "id": "1b1d64cd-0e28-400f-8d49-a1274947e150",
    "outputId": "c2a3db9a-8ca2-4564-81c4-18b2f47be3d9"
   },
   "outputs": [
    {
     "data": {
      "text/plain": [
       "array([[8, 2, 3],\n",
       "       [3, 4, 4],\n",
       "       [1, 4, 9],\n",
       "       [4, 6, 2],\n",
       "       [4, 7, 8]])"
      ]
     },
     "execution_count": 10,
     "metadata": {},
     "output_type": "execute_result"
    }
   ],
   "source": [
    "mas1 = np.random.randint(0, 10, size = (5,3))\n",
    "mas1"
   ]
  },
  {
   "cell_type": "code",
   "execution_count": 11,
   "id": "FvbjgARv9j0n",
   "metadata": {
    "colab": {
     "base_uri": "https://localhost:8080/"
    },
    "id": "FvbjgARv9j0n",
    "outputId": "6f36f5fe-7569-4381-a6b3-6c7b7f16e7ca"
   },
   "outputs": [
    {
     "data": {
      "text/plain": [
       "array([[6, 4],\n",
       "       [6, 5],\n",
       "       [8, 6]])"
      ]
     },
     "execution_count": 11,
     "metadata": {},
     "output_type": "execute_result"
    }
   ],
   "source": [
    "mas2 = np.random.randint(0, 10, size = (3,2))\n",
    "mas2"
   ]
  },
  {
   "cell_type": "code",
   "execution_count": 12,
   "id": "zlnB0Q0s9nWA",
   "metadata": {
    "colab": {
     "base_uri": "https://localhost:8080/"
    },
    "id": "zlnB0Q0s9nWA",
    "outputId": "5057277a-66f3-459b-dabc-8fd444e44be3"
   },
   "outputs": [
    {
     "data": {
      "text/plain": [
       "array([[ 84,  60],\n",
       "       [ 74,  56],\n",
       "       [102,  78],\n",
       "       [ 76,  58],\n",
       "       [130,  99]])"
      ]
     },
     "execution_count": 12,
     "metadata": {},
     "output_type": "execute_result"
    }
   ],
   "source": [
    "res = mas1.dot(mas2)\n",
    "res"
   ]
  },
  {
   "cell_type": "markdown",
   "id": "b3b2cd1e-e996-45e0-b9ed-e12ce653a9c3",
   "metadata": {
    "id": "b3b2cd1e-e996-45e0-b9ed-e12ce653a9c3"
   },
   "source": [
    "5. Как получить все даты, соответствующие июлю 2016 года?"
   ]
  },
  {
   "cell_type": "code",
   "execution_count": 13,
   "id": "c40ef785-d750-42ba-ac6e-b777866202a6",
   "metadata": {
    "colab": {
     "base_uri": "https://localhost:8080/"
    },
    "id": "c40ef785-d750-42ba-ac6e-b777866202a6",
    "outputId": "61fd8ae7-9ed8-4ae3-f301-45bb98a60a8a"
   },
   "outputs": [
    {
     "data": {
      "text/plain": [
       "array(['2016-07-01', '2016-07-02', '2016-07-03', '2016-07-04',\n",
       "       '2016-07-05', '2016-07-06', '2016-07-07', '2016-07-08',\n",
       "       '2016-07-09', '2016-07-10', '2016-07-11', '2016-07-12',\n",
       "       '2016-07-13', '2016-07-14', '2016-07-15', '2016-07-16',\n",
       "       '2016-07-17', '2016-07-18', '2016-07-19', '2016-07-20',\n",
       "       '2016-07-21', '2016-07-22', '2016-07-23', '2016-07-24',\n",
       "       '2016-07-25', '2016-07-26', '2016-07-27', '2016-07-28',\n",
       "       '2016-07-29', '2016-07-30', '2016-07-31'], dtype='datetime64[D]')"
      ]
     },
     "execution_count": 13,
     "metadata": {},
     "output_type": "execute_result"
    }
   ],
   "source": [
    "year = 2016\n",
    "month = 7  # Апрель\n",
    "\n",
    "# Создаем массив дат для указанного года и месяца\n",
    "dates = np.arange(np.datetime64(f'{year}-{str(month).zfill(2)}-01'),\n",
    "                  np.datetime64(f'{year}-{str(month+1).zfill(2)}-01'))\n",
    "dates"
   ]
  },
  {
   "cell_type": "markdown",
   "id": "8108b3a8-5ba8-472d-ad6b-095ade8678ef",
   "metadata": {
    "id": "8108b3a8-5ba8-472d-ad6b-095ade8678ef"
   },
   "source": [
    "6. Создайте матрицу размером 5х5 со случайными значениями строк в диапазоне от 0 до 4"
   ]
  },
  {
   "cell_type": "code",
   "execution_count": 14,
   "id": "89b58c0a-bd5d-435a-be45-719fdfce662a",
   "metadata": {
    "colab": {
     "base_uri": "https://localhost:8080/"
    },
    "id": "89b58c0a-bd5d-435a-be45-719fdfce662a",
    "outputId": "965c0990-f897-44e5-93ef-33aab47d290e"
   },
   "outputs": [
    {
     "data": {
      "text/plain": [
       "array([[2, 2, 0, 0, 1],\n",
       "       [3, 0, 3, 2, 0],\n",
       "       [2, 3, 3, 4, 2],\n",
       "       [3, 4, 1, 4, 3],\n",
       "       [3, 0, 1, 4, 0]])"
      ]
     },
     "execution_count": 14,
     "metadata": {},
     "output_type": "execute_result"
    }
   ],
   "source": [
    "mas = np.random.randint(0, 5, size = [5,5])\n",
    "mas"
   ]
  },
  {
   "cell_type": "markdown",
   "id": "98511652-db85-4506-a5b8-f94b05d35ce9",
   "metadata": {
    "id": "98511652-db85-4506-a5b8-f94b05d35ce9"
   },
   "source": [
    "7. Создайте вектор размером 10 со значениями в диапазоне от $(0, 1)$"
   ]
  },
  {
   "cell_type": "code",
   "execution_count": 15,
   "id": "ca72cdb0-ed24-460d-81a9-220b850d62c3",
   "metadata": {
    "colab": {
     "base_uri": "https://localhost:8080/"
    },
    "id": "ca72cdb0-ed24-460d-81a9-220b850d62c3",
    "outputId": "e49c9784-1b5e-4fa4-bb71-017e375883e4"
   },
   "outputs": [
    {
     "data": {
      "text/plain": [
       "array([0.07339662, 0.6956766 , 0.55191386, 0.60325605, 0.84772698,\n",
       "       0.71918153, 0.83914786, 0.5616507 , 0.46466128, 0.71075964])"
      ]
     },
     "execution_count": 15,
     "metadata": {},
     "output_type": "execute_result"
    }
   ],
   "source": [
    "mas = np.random.random_sample(size = 10)\n",
    "mas\n",
    "#можно использовать uniform разница в том, что uniform генерирует числа включая верхнюю границу"
   ]
  },
  {
   "cell_type": "markdown",
   "id": "1412a70a-2a1e-406e-a227-afc9a47ed659",
   "metadata": {
    "id": "1412a70a-2a1e-406e-a227-afc9a47ed659"
   },
   "source": [
    "8. Выведите минимальное и максимальное представимое значение для каждого скалярного типа numpy"
   ]
  },
  {
   "cell_type": "code",
   "execution_count": 16,
   "id": "22bb8bbf-52dd-4d3c-86c0-c4e9637b909b",
   "metadata": {
    "colab": {
     "base_uri": "https://localhost:8080/"
    },
    "id": "22bb8bbf-52dd-4d3c-86c0-c4e9637b909b",
    "outputId": "ffd64d2c-e8ef-48e9-fc25-a53988104ae4"
   },
   "outputs": [
    {
     "name": "stdout",
     "output_type": "stream",
     "text": [
      "Тип: int8, минимум: -128, максимум: 127\n",
      "Тип: int32, минимум: -2147483648, максимум: 2147483647\n",
      "Тип: int64, минимум: -9223372036854775808, максимум: 9223372036854775807\n",
      "Тип: float32, минимум: -3.4028234663852886e+38, максимум: 3.4028234663852886e+38\n",
      "Тип: float64, минимум: -1.7976931348623157e+308, максимум: 1.7976931348623157e+308\n"
     ]
    }
   ],
   "source": [
    "ints = [np.int8, np.int32, np.int64]\n",
    "\n",
    "for dtype in ints:\n",
    "   print(f'Тип: {dtype.__name__}, минимум: {np.iinfo(dtype).min}, максимум: {np.iinfo(dtype).max}')\n",
    "\n",
    "floats = [np.float32, np.float64]\n",
    "for dtype in floats:\n",
    "   print(f'Тип: {dtype.__name__}, минимум: {np.finfo(dtype).min}, максимум: {np.finfo(dtype).max}')"
   ]
  },
  {
   "cell_type": "markdown",
   "id": "f7dc66bf-f7c8-4d78-834b-451651f6839a",
   "metadata": {
    "id": "f7dc66bf-f7c8-4d78-834b-451651f6839a"
   },
   "source": [
    "9. Как отсортировать массив по n-му столбцу?"
   ]
  },
  {
   "cell_type": "code",
   "execution_count": 17,
   "id": "0ecf5586-d30e-4256-ab93-7ff9bab0b34b",
   "metadata": {
    "colab": {
     "base_uri": "https://localhost:8080/"
    },
    "id": "0ecf5586-d30e-4256-ab93-7ff9bab0b34b",
    "outputId": "8152449e-6786-4d4a-8f01-3c27c620b64d"
   },
   "outputs": [
    {
     "data": {
      "text/plain": [
       "array([[5, 7, 7, 5, 4],\n",
       "       [2, 3, 5, 1, 2],\n",
       "       [6, 4, 8, 2, 3],\n",
       "       [4, 6, 9, 9, 6],\n",
       "       [7, 6, 8, 8, 8]])"
      ]
     },
     "execution_count": 17,
     "metadata": {},
     "output_type": "execute_result"
    }
   ],
   "source": [
    "mas = np.random.randint(1, 10, size=(5, 5))\n",
    "mas\n"
   ]
  },
  {
   "cell_type": "code",
   "execution_count": 18,
   "id": "LVKu1ZmHGe6_",
   "metadata": {
    "colab": {
     "base_uri": "https://localhost:8080/"
    },
    "id": "LVKu1ZmHGe6_",
    "outputId": "be1af85d-7734-45dd-aec9-87ce87865445"
   },
   "outputs": [
    {
     "data": {
      "text/plain": [
       "array([[2, 3, 5, 1, 2],\n",
       "       [6, 4, 8, 2, 3],\n",
       "       [4, 6, 9, 9, 6],\n",
       "       [7, 6, 8, 8, 8],\n",
       "       [5, 7, 7, 5, 4]])"
      ]
     },
     "execution_count": 18,
     "metadata": {},
     "output_type": "execute_result"
    }
   ],
   "source": [
    "n = 1\n",
    "sorted_mas = mas[mas[:, n].argsort()]\n",
    "sorted_mas\n"
   ]
  },
  {
   "cell_type": "markdown",
   "id": "a66194f1-0099-4808-8ebf-5cf10eee5071",
   "metadata": {
    "id": "a66194f1-0099-4808-8ebf-5cf10eee5071"
   },
   "source": [
    "10. Как определить, есть ли в данном двумерном массиве пустые столбцы?"
   ]
  },
  {
   "cell_type": "code",
   "execution_count": 19,
   "id": "07ed452c-3f7c-40a7-a5b5-716602a5eed9",
   "metadata": {
    "colab": {
     "base_uri": "https://localhost:8080/"
    },
    "id": "07ed452c-3f7c-40a7-a5b5-716602a5eed9",
    "outputId": "7444ef6e-e43e-4540-b5ba-401165e328d6"
   },
   "outputs": [
    {
     "name": "stdout",
     "output_type": "stream",
     "text": [
      "NO\n",
      "YES\n",
      "NO\n"
     ]
    }
   ],
   "source": [
    "mas = np.array([[1, 0, 0],\n",
    "                [3, 0, 4],\n",
    "                [0, 0, 6]])\n",
    "flag = 0;\n",
    "for j in range(mas.shape[1]):\n",
    "  if np.all(mas[:, j] == 0):\n",
    "    print(\"YES\")\n",
    "  else:\n",
    "    print(\"NO\")"
   ]
  },
  {
   "cell_type": "markdown",
   "id": "5bd0f757-bb01-4afb-b4f0-6821b5c5b2b7",
   "metadata": {
    "id": "5bd0f757-bb01-4afb-b4f0-6821b5c5b2b7"
   },
   "source": [
    "### 2. Pandas"
   ]
  },
  {
   "cell_type": "markdown",
   "id": "bdffd013-e573-4318-8062-65ae1c5e07e8",
   "metadata": {
    "id": "bdffd013-e573-4318-8062-65ae1c5e07e8"
   },
   "source": [
    "Найдите ответы на вопросы или выполните действия с предложенным датасетом\n",
    "\n",
    "Набор данных для изучения зависимости различных параметров тела человека.\n",
    "\n",
    "Файл: `data.csv`\n",
    "\n",
    "```\n",
    "Height (cm) - рост человека в сантиметрах\n",
    "Weight (kg) - вес человека в килограммах\n",
    "Blood Pressure (s/d) - кровяное давление(systolic/diastolic) в mmHg.\n",
    "Cholesterol Level (mg/dL) - уровень холестерина milligrams per deciliter.\n",
    "BMI - Body Mass Index, рассчитывается по весу и росту.\n",
    "Blood Glucose Level (mg/dL) - уровень глюкозы в крови milligrams per deciliter.\n",
    "Bone Density (g/cm²) - плотность костной массы grams per square centimeter.\n",
    "Vision Sharpness - четкость зрения от 0 (полностью размыто) до 100 (идеально).\n",
    "Hearing Ability (dB) - способность воспринимать звуки в dB.\n",
    "Physical Activity Level - уровень физической активности 'Low', 'Moderate', или 'High'.\n",
    "Smoking Status - статус курильщика 'Never', 'Former', и 'Current'.\n",
    "Alcohol Consumption - частота принятия алкоголя.\n",
    "Diet - тип диеты. Категоризован на 'Balanced', 'High Protein', 'Low Carb', и т.п.\n",
    "Chronic Diseases - наличие хронических заболеваний (e.g., diabetes, hypertension).\n",
    "Medication Use - использование медикаментов.\n",
    "Family History - наличие в семейном анамнезе возрастных заболеваний.\n",
    "Cognitive Function - самооценка когнитивных функций по шкале от 0 (плохая) до 100 (отличная).\n",
    "Mental Health Status - самооценка состояния психического здоровья по шкале от 0 (плохое) до 100 (отличное).\n",
    "Sleep Patterns - среднее кол-во сна за ночь.\n",
    "Stress Levels - самооценка уровня стресса по шкале от 0 (низкий) до 100 (высокий).\n",
    "Pollution Exposure - воздействие загрязнения, измеряемое в произвольных единицах измерения.\n",
    "Sun Exposure - среднее время пребывания на солнце в часах в неделю.\n",
    "Education Level - уровень образования.\n",
    "Income Level - доход в USD.\n",
    "```"
   ]
  },
  {
   "cell_type": "code",
   "execution_count": 2,
   "id": "0778ec2b-a7b2-4738-b771-bb1781986f62",
   "metadata": {
    "id": "0778ec2b-a7b2-4738-b771-bb1781986f62"
   },
   "outputs": [],
   "source": [
    "import pandas as pd"
   ]
  },
  {
   "cell_type": "code",
   "execution_count": 7,
   "id": "bfc45614-d44b-49bd-a55c-c410a95a808f",
   "metadata": {
    "id": "bfc45614-d44b-49bd-a55c-c410a95a808f"
   },
   "outputs": [
    {
     "data": {
      "text/html": [
       "<div>\n",
       "<style scoped>\n",
       "    .dataframe tbody tr th:only-of-type {\n",
       "        vertical-align: middle;\n",
       "    }\n",
       "\n",
       "    .dataframe tbody tr th {\n",
       "        vertical-align: top;\n",
       "    }\n",
       "\n",
       "    .dataframe thead th {\n",
       "        text-align: right;\n",
       "    }\n",
       "</style>\n",
       "<table border=\"1\" class=\"dataframe\">\n",
       "  <thead>\n",
       "    <tr style=\"text-align: right;\">\n",
       "      <th></th>\n",
       "      <th>Gender</th>\n",
       "      <th>Height (cm)</th>\n",
       "      <th>Weight (kg)</th>\n",
       "      <th>Blood Pressure (s/d)</th>\n",
       "      <th>Cholesterol Level (mg/dL)</th>\n",
       "      <th>BMI</th>\n",
       "      <th>Blood Glucose Level (mg/dL)</th>\n",
       "      <th>Bone Density (g/cm²)</th>\n",
       "      <th>Vision Sharpness</th>\n",
       "      <th>Hearing Ability (dB)</th>\n",
       "      <th>...</th>\n",
       "      <th>Family History</th>\n",
       "      <th>Cognitive Function</th>\n",
       "      <th>Mental Health Status</th>\n",
       "      <th>Sleep Patterns</th>\n",
       "      <th>Stress Levels</th>\n",
       "      <th>Pollution Exposure</th>\n",
       "      <th>Sun Exposure</th>\n",
       "      <th>Education Level</th>\n",
       "      <th>Income Level</th>\n",
       "      <th>Age (years)</th>\n",
       "    </tr>\n",
       "  </thead>\n",
       "  <tbody>\n",
       "    <tr>\n",
       "      <th>0</th>\n",
       "      <td>Male</td>\n",
       "      <td>171.148359</td>\n",
       "      <td>86.185197</td>\n",
       "      <td>151/109</td>\n",
       "      <td>259.465814</td>\n",
       "      <td>29.423017</td>\n",
       "      <td>157.652848</td>\n",
       "      <td>0.132868</td>\n",
       "      <td>0.200000</td>\n",
       "      <td>58.786198</td>\n",
       "      <td>...</td>\n",
       "      <td>NaN</td>\n",
       "      <td>44.059172</td>\n",
       "      <td>Good</td>\n",
       "      <td>Insomnia</td>\n",
       "      <td>2.797064</td>\n",
       "      <td>5.142344</td>\n",
       "      <td>7.108975</td>\n",
       "      <td>NaN</td>\n",
       "      <td>Medium</td>\n",
       "      <td>89</td>\n",
       "    </tr>\n",
       "    <tr>\n",
       "      <th>1</th>\n",
       "      <td>Male</td>\n",
       "      <td>172.946206</td>\n",
       "      <td>79.641937</td>\n",
       "      <td>134/112</td>\n",
       "      <td>263.630292</td>\n",
       "      <td>26.626847</td>\n",
       "      <td>118.507805</td>\n",
       "      <td>0.629534</td>\n",
       "      <td>0.267312</td>\n",
       "      <td>54.635270</td>\n",
       "      <td>...</td>\n",
       "      <td>Heart Disease</td>\n",
       "      <td>45.312298</td>\n",
       "      <td>Good</td>\n",
       "      <td>Normal</td>\n",
       "      <td>9.339930</td>\n",
       "      <td>7.272720</td>\n",
       "      <td>3.918489</td>\n",
       "      <td>Undergraduate</td>\n",
       "      <td>Medium</td>\n",
       "      <td>77</td>\n",
       "    </tr>\n",
       "    <tr>\n",
       "      <th>2</th>\n",
       "      <td>Female</td>\n",
       "      <td>155.945488</td>\n",
       "      <td>49.167058</td>\n",
       "      <td>160/101</td>\n",
       "      <td>207.846206</td>\n",
       "      <td>20.217553</td>\n",
       "      <td>143.587550</td>\n",
       "      <td>0.473487</td>\n",
       "      <td>0.248667</td>\n",
       "      <td>54.564632</td>\n",
       "      <td>...</td>\n",
       "      <td>Hypertension</td>\n",
       "      <td>56.246991</td>\n",
       "      <td>Poor</td>\n",
       "      <td>Insomnia</td>\n",
       "      <td>9.234637</td>\n",
       "      <td>8.500386</td>\n",
       "      <td>5.393408</td>\n",
       "      <td>NaN</td>\n",
       "      <td>Medium</td>\n",
       "      <td>70</td>\n",
       "    </tr>\n",
       "    <tr>\n",
       "      <th>3</th>\n",
       "      <td>Female</td>\n",
       "      <td>169.078298</td>\n",
       "      <td>56.017921</td>\n",
       "      <td>133/94</td>\n",
       "      <td>253.283779</td>\n",
       "      <td>19.595270</td>\n",
       "      <td>137.448581</td>\n",
       "      <td>1.184315</td>\n",
       "      <td>0.513818</td>\n",
       "      <td>79.722963</td>\n",
       "      <td>...</td>\n",
       "      <td>Hypertension</td>\n",
       "      <td>55.196092</td>\n",
       "      <td>Poor</td>\n",
       "      <td>Insomnia</td>\n",
       "      <td>4.693446</td>\n",
       "      <td>7.555511</td>\n",
       "      <td>2.745578</td>\n",
       "      <td>NaN</td>\n",
       "      <td>Low</td>\n",
       "      <td>52</td>\n",
       "    </tr>\n",
       "    <tr>\n",
       "      <th>4</th>\n",
       "      <td>Female</td>\n",
       "      <td>163.758355</td>\n",
       "      <td>73.966304</td>\n",
       "      <td>170/106</td>\n",
       "      <td>236.119899</td>\n",
       "      <td>27.582078</td>\n",
       "      <td>145.328695</td>\n",
       "      <td>0.434562</td>\n",
       "      <td>0.306864</td>\n",
       "      <td>52.479469</td>\n",
       "      <td>...</td>\n",
       "      <td>NaN</td>\n",
       "      <td>53.023379</td>\n",
       "      <td>Good</td>\n",
       "      <td>Normal</td>\n",
       "      <td>4.038537</td>\n",
       "      <td>9.429097</td>\n",
       "      <td>3.878435</td>\n",
       "      <td>Undergraduate</td>\n",
       "      <td>High</td>\n",
       "      <td>79</td>\n",
       "    </tr>\n",
       "    <tr>\n",
       "      <th>...</th>\n",
       "      <td>...</td>\n",
       "      <td>...</td>\n",
       "      <td>...</td>\n",
       "      <td>...</td>\n",
       "      <td>...</td>\n",
       "      <td>...</td>\n",
       "      <td>...</td>\n",
       "      <td>...</td>\n",
       "      <td>...</td>\n",
       "      <td>...</td>\n",
       "      <td>...</td>\n",
       "      <td>...</td>\n",
       "      <td>...</td>\n",
       "      <td>...</td>\n",
       "      <td>...</td>\n",
       "      <td>...</td>\n",
       "      <td>...</td>\n",
       "      <td>...</td>\n",
       "      <td>...</td>\n",
       "      <td>...</td>\n",
       "      <td>...</td>\n",
       "    </tr>\n",
       "    <tr>\n",
       "      <th>2995</th>\n",
       "      <td>Male</td>\n",
       "      <td>161.632502</td>\n",
       "      <td>88.323405</td>\n",
       "      <td>134/91</td>\n",
       "      <td>204.175510</td>\n",
       "      <td>33.807917</td>\n",
       "      <td>112.075747</td>\n",
       "      <td>1.583006</td>\n",
       "      <td>0.665907</td>\n",
       "      <td>27.997736</td>\n",
       "      <td>...</td>\n",
       "      <td>Diabetes</td>\n",
       "      <td>57.820282</td>\n",
       "      <td>Fair</td>\n",
       "      <td>Normal</td>\n",
       "      <td>8.091897</td>\n",
       "      <td>9.846088</td>\n",
       "      <td>9.111205</td>\n",
       "      <td>Undergraduate</td>\n",
       "      <td>High</td>\n",
       "      <td>22</td>\n",
       "    </tr>\n",
       "    <tr>\n",
       "      <th>2996</th>\n",
       "      <td>Male</td>\n",
       "      <td>163.443512</td>\n",
       "      <td>93.217007</td>\n",
       "      <td>110/78</td>\n",
       "      <td>197.384424</td>\n",
       "      <td>34.894725</td>\n",
       "      <td>101.177692</td>\n",
       "      <td>1.785129</td>\n",
       "      <td>0.720304</td>\n",
       "      <td>32.866623</td>\n",
       "      <td>...</td>\n",
       "      <td>Heart Disease</td>\n",
       "      <td>68.783715</td>\n",
       "      <td>Good</td>\n",
       "      <td>Normal</td>\n",
       "      <td>2.427081</td>\n",
       "      <td>1.141303</td>\n",
       "      <td>8.578184</td>\n",
       "      <td>Undergraduate</td>\n",
       "      <td>Medium</td>\n",
       "      <td>19</td>\n",
       "    </tr>\n",
       "    <tr>\n",
       "      <th>2997</th>\n",
       "      <td>Male</td>\n",
       "      <td>177.857644</td>\n",
       "      <td>86.258847</td>\n",
       "      <td>159/116</td>\n",
       "      <td>238.641542</td>\n",
       "      <td>27.268332</td>\n",
       "      <td>110.548146</td>\n",
       "      <td>0.366012</td>\n",
       "      <td>0.200000</td>\n",
       "      <td>39.756270</td>\n",
       "      <td>...</td>\n",
       "      <td>NaN</td>\n",
       "      <td>50.133807</td>\n",
       "      <td>Fair</td>\n",
       "      <td>Normal</td>\n",
       "      <td>7.671837</td>\n",
       "      <td>5.101134</td>\n",
       "      <td>2.199199</td>\n",
       "      <td>Undergraduate</td>\n",
       "      <td>Low</td>\n",
       "      <td>85</td>\n",
       "    </tr>\n",
       "    <tr>\n",
       "      <th>2998</th>\n",
       "      <td>Female</td>\n",
       "      <td>162.287164</td>\n",
       "      <td>41.371018</td>\n",
       "      <td>134/82</td>\n",
       "      <td>198.244328</td>\n",
       "      <td>15.708252</td>\n",
       "      <td>123.704379</td>\n",
       "      <td>1.452963</td>\n",
       "      <td>0.648158</td>\n",
       "      <td>43.338594</td>\n",
       "      <td>...</td>\n",
       "      <td>Hypertension</td>\n",
       "      <td>68.864629</td>\n",
       "      <td>Good</td>\n",
       "      <td>Insomnia</td>\n",
       "      <td>7.920076</td>\n",
       "      <td>4.452130</td>\n",
       "      <td>5.051613</td>\n",
       "      <td>NaN</td>\n",
       "      <td>High</td>\n",
       "      <td>30</td>\n",
       "    </tr>\n",
       "    <tr>\n",
       "      <th>2999</th>\n",
       "      <td>Male</td>\n",
       "      <td>175.341710</td>\n",
       "      <td>78.718038</td>\n",
       "      <td>167/91</td>\n",
       "      <td>279.118184</td>\n",
       "      <td>25.603762</td>\n",
       "      <td>156.577316</td>\n",
       "      <td>0.704319</td>\n",
       "      <td>0.578625</td>\n",
       "      <td>43.926230</td>\n",
       "      <td>...</td>\n",
       "      <td>Hypertension</td>\n",
       "      <td>60.892114</td>\n",
       "      <td>Poor</td>\n",
       "      <td>Insomnia</td>\n",
       "      <td>8.013913</td>\n",
       "      <td>4.624968</td>\n",
       "      <td>3.745138</td>\n",
       "      <td>High School</td>\n",
       "      <td>High</td>\n",
       "      <td>66</td>\n",
       "    </tr>\n",
       "  </tbody>\n",
       "</table>\n",
       "<p>3000 rows × 26 columns</p>\n",
       "</div>"
      ],
      "text/plain": [
       "      Gender  Height (cm)  Weight (kg) Blood Pressure (s/d)  \\\n",
       "0       Male   171.148359    86.185197              151/109   \n",
       "1       Male   172.946206    79.641937              134/112   \n",
       "2     Female   155.945488    49.167058              160/101   \n",
       "3     Female   169.078298    56.017921               133/94   \n",
       "4     Female   163.758355    73.966304              170/106   \n",
       "...      ...          ...          ...                  ...   \n",
       "2995    Male   161.632502    88.323405               134/91   \n",
       "2996    Male   163.443512    93.217007               110/78   \n",
       "2997    Male   177.857644    86.258847              159/116   \n",
       "2998  Female   162.287164    41.371018               134/82   \n",
       "2999    Male   175.341710    78.718038               167/91   \n",
       "\n",
       "      Cholesterol Level (mg/dL)        BMI  Blood Glucose Level (mg/dL)  \\\n",
       "0                    259.465814  29.423017                   157.652848   \n",
       "1                    263.630292  26.626847                   118.507805   \n",
       "2                    207.846206  20.217553                   143.587550   \n",
       "3                    253.283779  19.595270                   137.448581   \n",
       "4                    236.119899  27.582078                   145.328695   \n",
       "...                         ...        ...                          ...   \n",
       "2995                 204.175510  33.807917                   112.075747   \n",
       "2996                 197.384424  34.894725                   101.177692   \n",
       "2997                 238.641542  27.268332                   110.548146   \n",
       "2998                 198.244328  15.708252                   123.704379   \n",
       "2999                 279.118184  25.603762                   156.577316   \n",
       "\n",
       "      Bone Density (g/cm²)  Vision Sharpness  Hearing Ability (dB)  ...  \\\n",
       "0                 0.132868          0.200000             58.786198  ...   \n",
       "1                 0.629534          0.267312             54.635270  ...   \n",
       "2                 0.473487          0.248667             54.564632  ...   \n",
       "3                 1.184315          0.513818             79.722963  ...   \n",
       "4                 0.434562          0.306864             52.479469  ...   \n",
       "...                    ...               ...                   ...  ...   \n",
       "2995              1.583006          0.665907             27.997736  ...   \n",
       "2996              1.785129          0.720304             32.866623  ...   \n",
       "2997              0.366012          0.200000             39.756270  ...   \n",
       "2998              1.452963          0.648158             43.338594  ...   \n",
       "2999              0.704319          0.578625             43.926230  ...   \n",
       "\n",
       "     Family History Cognitive Function Mental Health Status Sleep Patterns  \\\n",
       "0               NaN          44.059172                 Good       Insomnia   \n",
       "1     Heart Disease          45.312298                 Good         Normal   \n",
       "2      Hypertension          56.246991                 Poor       Insomnia   \n",
       "3      Hypertension          55.196092                 Poor       Insomnia   \n",
       "4               NaN          53.023379                 Good         Normal   \n",
       "...             ...                ...                  ...            ...   \n",
       "2995       Diabetes          57.820282                 Fair         Normal   \n",
       "2996  Heart Disease          68.783715                 Good         Normal   \n",
       "2997            NaN          50.133807                 Fair         Normal   \n",
       "2998   Hypertension          68.864629                 Good       Insomnia   \n",
       "2999   Hypertension          60.892114                 Poor       Insomnia   \n",
       "\n",
       "     Stress Levels Pollution Exposure Sun Exposure  Education Level  \\\n",
       "0         2.797064           5.142344     7.108975              NaN   \n",
       "1         9.339930           7.272720     3.918489    Undergraduate   \n",
       "2         9.234637           8.500386     5.393408              NaN   \n",
       "3         4.693446           7.555511     2.745578              NaN   \n",
       "4         4.038537           9.429097     3.878435    Undergraduate   \n",
       "...            ...                ...          ...              ...   \n",
       "2995      8.091897           9.846088     9.111205    Undergraduate   \n",
       "2996      2.427081           1.141303     8.578184    Undergraduate   \n",
       "2997      7.671837           5.101134     2.199199    Undergraduate   \n",
       "2998      7.920076           4.452130     5.051613              NaN   \n",
       "2999      8.013913           4.624968     3.745138      High School   \n",
       "\n",
       "     Income Level Age (years)  \n",
       "0          Medium          89  \n",
       "1          Medium          77  \n",
       "2          Medium          70  \n",
       "3             Low          52  \n",
       "4            High          79  \n",
       "...           ...         ...  \n",
       "2995         High          22  \n",
       "2996       Medium          19  \n",
       "2997          Low          85  \n",
       "2998         High          30  \n",
       "2999         High          66  \n",
       "\n",
       "[3000 rows x 26 columns]"
      ]
     },
     "execution_count": 7,
     "metadata": {},
     "output_type": "execute_result"
    }
   ],
   "source": [
    "df = pd.read_csv('data.csv', delimiter = ',')\n",
    "df"
   ]
  },
  {
   "cell_type": "markdown",
   "id": "1026e8c6-513a-41e3-b2f4-68aae18b8435",
   "metadata": {
    "id": "1026e8c6-513a-41e3-b2f4-68aae18b8435"
   },
   "source": [
    "1. Какой средний вес людей представленных в наборе данных?"
   ]
  },
  {
   "cell_type": "code",
   "execution_count": 11,
   "id": "e74655aa-b97c-42e5-b972-e0753ddc2331",
   "metadata": {
    "id": "e74655aa-b97c-42e5-b972-e0753ddc2331"
   },
   "outputs": [
    {
     "data": {
      "text/plain": [
       "72.53726013905388"
      ]
     },
     "execution_count": 11,
     "metadata": {},
     "output_type": "execute_result"
    }
   ],
   "source": [
    "mean_weight = df['Weight (kg)'].mean()\n",
    "mean_weight"
   ]
  },
  {
   "cell_type": "markdown",
   "id": "eee028a5-9311-4a4f-b4ac-1fb75acfb4b3",
   "metadata": {
    "id": "eee028a5-9311-4a4f-b4ac-1fb75acfb4b3"
   },
   "source": [
    "2. Сбалансировано ли соотношение мужчин и женщин в наборе данных?"
   ]
  },
  {
   "cell_type": "code",
   "execution_count": 14,
   "id": "ac0fb641-96d2-4e7c-88d5-636ce3b699d2",
   "metadata": {
    "id": "ac0fb641-96d2-4e7c-88d5-636ce3b699d2"
   },
   "outputs": [],
   "source": [
    "count_fem = len(df[df['Gender']=='Female'])\n",
    "count_male = len(df[df['Gender']=='Male'])"
   ]
  },
  {
   "cell_type": "code",
   "execution_count": 16,
   "id": "bc253a1e-2070-4bac-a658-c0f6ecc5bc6f",
   "metadata": {},
   "outputs": [
    {
     "data": {
      "text/plain": [
       "1.0147750167897918"
      ]
     },
     "execution_count": 16,
     "metadata": {},
     "output_type": "execute_result"
    }
   ],
   "source": [
    "balanced = count_fem / count_male\n",
    "balanced\n",
    "#близко к единице следовательно сбалансировано"
   ]
  },
  {
   "cell_type": "markdown",
   "id": "cd7979ba-2fa8-4fd3-986d-26cee122da1f",
   "metadata": {
    "id": "cd7979ba-2fa8-4fd3-986d-26cee122da1f"
   },
   "source": [
    "3. Правда ли, что люди с высоким уровнем стресса имеют более высокое кровяное давление, чем те, кто не подвержен стрессу"
   ]
  },
  {
   "cell_type": "code",
   "execution_count": 24,
   "id": "0a08dcc5-f1c5-4608-92e0-047d475e8b4b",
   "metadata": {},
   "outputs": [
    {
     "data": {
      "text/plain": [
       "Gender                          object\n",
       "Height (cm)                    float64\n",
       "Weight (kg)                    float64\n",
       "Blood Pressure (s/d)            object\n",
       "Cholesterol Level (mg/dL)      float64\n",
       "BMI                            float64\n",
       "Blood Glucose Level (mg/dL)    float64\n",
       "Bone Density (g/cm²)           float64\n",
       "Vision Sharpness               float64\n",
       "Hearing Ability (dB)           float64\n",
       "Physical Activity Level         object\n",
       "Smoking Status                  object\n",
       "Alcohol Consumption             object\n",
       "Diet                            object\n",
       "Chronic Diseases                object\n",
       "Medication Use                  object\n",
       "Family History                  object\n",
       "Cognitive Function             float64\n",
       "Mental Health Status            object\n",
       "Sleep Patterns                  object\n",
       "Stress Levels                  float64\n",
       "Pollution Exposure             float64\n",
       "Sun Exposure                   float64\n",
       "Education Level                 object\n",
       "Income Level                    object\n",
       "Age (years)                      int64\n",
       "dtype: object"
      ]
     },
     "execution_count": 24,
     "metadata": {},
     "output_type": "execute_result"
    }
   ],
   "source": [
    "df.dtypes"
   ]
  },
  {
   "cell_type": "code",
   "execution_count": 39,
   "id": "968e2df1-6150-48b7-9d08-f7a8c86476eb",
   "metadata": {},
   "outputs": [
    {
     "data": {
      "text/html": [
       "<div>\n",
       "<style scoped>\n",
       "    .dataframe tbody tr th:only-of-type {\n",
       "        vertical-align: middle;\n",
       "    }\n",
       "\n",
       "    .dataframe tbody tr th {\n",
       "        vertical-align: top;\n",
       "    }\n",
       "\n",
       "    .dataframe thead th {\n",
       "        text-align: right;\n",
       "    }\n",
       "</style>\n",
       "<table border=\"1\" class=\"dataframe\">\n",
       "  <thead>\n",
       "    <tr style=\"text-align: right;\">\n",
       "      <th></th>\n",
       "      <th>Gender</th>\n",
       "      <th>Height (cm)</th>\n",
       "      <th>Weight (kg)</th>\n",
       "      <th>Blood Pressure (s/d)</th>\n",
       "      <th>Cholesterol Level (mg/dL)</th>\n",
       "      <th>BMI</th>\n",
       "      <th>Blood Glucose Level (mg/dL)</th>\n",
       "      <th>Bone Density (g/cm²)</th>\n",
       "      <th>Vision Sharpness</th>\n",
       "      <th>Hearing Ability (dB)</th>\n",
       "      <th>...</th>\n",
       "      <th>Family History</th>\n",
       "      <th>Cognitive Function</th>\n",
       "      <th>Mental Health Status</th>\n",
       "      <th>Sleep Patterns</th>\n",
       "      <th>Stress Levels</th>\n",
       "      <th>Pollution Exposure</th>\n",
       "      <th>Sun Exposure</th>\n",
       "      <th>Education Level</th>\n",
       "      <th>Income Level</th>\n",
       "      <th>Age (years)</th>\n",
       "    </tr>\n",
       "  </thead>\n",
       "  <tbody>\n",
       "    <tr>\n",
       "      <th>1053</th>\n",
       "      <td>Female</td>\n",
       "      <td>157.488860</td>\n",
       "      <td>65.061187</td>\n",
       "      <td>139/84</td>\n",
       "      <td>196.218026</td>\n",
       "      <td>26.231450</td>\n",
       "      <td>115.299340</td>\n",
       "      <td>1.497706</td>\n",
       "      <td>0.736307</td>\n",
       "      <td>25.113472</td>\n",
       "      <td>...</td>\n",
       "      <td>Diabetes</td>\n",
       "      <td>73.204391</td>\n",
       "      <td>Fair</td>\n",
       "      <td>Normal</td>\n",
       "      <td>9.996323</td>\n",
       "      <td>4.053786</td>\n",
       "      <td>6.554834</td>\n",
       "      <td>High School</td>\n",
       "      <td>Low</td>\n",
       "      <td>28</td>\n",
       "    </tr>\n",
       "    <tr>\n",
       "      <th>966</th>\n",
       "      <td>Female</td>\n",
       "      <td>163.730370</td>\n",
       "      <td>64.878755</td>\n",
       "      <td>187/103</td>\n",
       "      <td>237.739981</td>\n",
       "      <td>24.201597</td>\n",
       "      <td>135.509748</td>\n",
       "      <td>0.360586</td>\n",
       "      <td>0.200000</td>\n",
       "      <td>65.645534</td>\n",
       "      <td>...</td>\n",
       "      <td>Heart Disease</td>\n",
       "      <td>54.814537</td>\n",
       "      <td>Excellent</td>\n",
       "      <td>Insomnia</td>\n",
       "      <td>9.994695</td>\n",
       "      <td>1.384646</td>\n",
       "      <td>5.087317</td>\n",
       "      <td>Undergraduate</td>\n",
       "      <td>Low</td>\n",
       "      <td>79</td>\n",
       "    </tr>\n",
       "    <tr>\n",
       "      <th>1496</th>\n",
       "      <td>Female</td>\n",
       "      <td>156.727756</td>\n",
       "      <td>64.660854</td>\n",
       "      <td>150/105</td>\n",
       "      <td>247.411474</td>\n",
       "      <td>26.323862</td>\n",
       "      <td>134.341884</td>\n",
       "      <td>0.508217</td>\n",
       "      <td>0.309987</td>\n",
       "      <td>57.767344</td>\n",
       "      <td>...</td>\n",
       "      <td>NaN</td>\n",
       "      <td>53.606102</td>\n",
       "      <td>Poor</td>\n",
       "      <td>Insomnia</td>\n",
       "      <td>9.991990</td>\n",
       "      <td>3.856749</td>\n",
       "      <td>4.174231</td>\n",
       "      <td>Postgraduate</td>\n",
       "      <td>Medium</td>\n",
       "      <td>82</td>\n",
       "    </tr>\n",
       "    <tr>\n",
       "      <th>201</th>\n",
       "      <td>Female</td>\n",
       "      <td>165.311316</td>\n",
       "      <td>71.802302</td>\n",
       "      <td>168/93</td>\n",
       "      <td>236.509295</td>\n",
       "      <td>26.274424</td>\n",
       "      <td>155.962488</td>\n",
       "      <td>1.520918</td>\n",
       "      <td>0.708114</td>\n",
       "      <td>46.792139</td>\n",
       "      <td>...</td>\n",
       "      <td>Hypertension</td>\n",
       "      <td>78.127851</td>\n",
       "      <td>Excellent</td>\n",
       "      <td>Normal</td>\n",
       "      <td>9.984869</td>\n",
       "      <td>5.413626</td>\n",
       "      <td>3.408701</td>\n",
       "      <td>Postgraduate</td>\n",
       "      <td>High</td>\n",
       "      <td>37</td>\n",
       "    </tr>\n",
       "    <tr>\n",
       "      <th>1832</th>\n",
       "      <td>Male</td>\n",
       "      <td>162.468639</td>\n",
       "      <td>99.366215</td>\n",
       "      <td>153/107</td>\n",
       "      <td>274.177742</td>\n",
       "      <td>37.644338</td>\n",
       "      <td>150.686463</td>\n",
       "      <td>-0.012821</td>\n",
       "      <td>0.200000</td>\n",
       "      <td>66.562346</td>\n",
       "      <td>...</td>\n",
       "      <td>NaN</td>\n",
       "      <td>67.154446</td>\n",
       "      <td>Excellent</td>\n",
       "      <td>Insomnia</td>\n",
       "      <td>9.983047</td>\n",
       "      <td>3.504055</td>\n",
       "      <td>8.936955</td>\n",
       "      <td>NaN</td>\n",
       "      <td>Medium</td>\n",
       "      <td>89</td>\n",
       "    </tr>\n",
       "    <tr>\n",
       "      <th>...</th>\n",
       "      <td>...</td>\n",
       "      <td>...</td>\n",
       "      <td>...</td>\n",
       "      <td>...</td>\n",
       "      <td>...</td>\n",
       "      <td>...</td>\n",
       "      <td>...</td>\n",
       "      <td>...</td>\n",
       "      <td>...</td>\n",
       "      <td>...</td>\n",
       "      <td>...</td>\n",
       "      <td>...</td>\n",
       "      <td>...</td>\n",
       "      <td>...</td>\n",
       "      <td>...</td>\n",
       "      <td>...</td>\n",
       "      <td>...</td>\n",
       "      <td>...</td>\n",
       "      <td>...</td>\n",
       "      <td>...</td>\n",
       "      <td>...</td>\n",
       "    </tr>\n",
       "    <tr>\n",
       "      <th>1742</th>\n",
       "      <td>Female</td>\n",
       "      <td>153.101065</td>\n",
       "      <td>65.387315</td>\n",
       "      <td>148/73</td>\n",
       "      <td>268.117250</td>\n",
       "      <td>27.895688</td>\n",
       "      <td>112.637637</td>\n",
       "      <td>1.086315</td>\n",
       "      <td>0.713353</td>\n",
       "      <td>59.114878</td>\n",
       "      <td>...</td>\n",
       "      <td>NaN</td>\n",
       "      <td>60.604529</td>\n",
       "      <td>Fair</td>\n",
       "      <td>Normal</td>\n",
       "      <td>1.009110</td>\n",
       "      <td>4.004103</td>\n",
       "      <td>1.770026</td>\n",
       "      <td>High School</td>\n",
       "      <td>Medium</td>\n",
       "      <td>44</td>\n",
       "    </tr>\n",
       "    <tr>\n",
       "      <th>2555</th>\n",
       "      <td>Female</td>\n",
       "      <td>156.356745</td>\n",
       "      <td>82.587187</td>\n",
       "      <td>124/86</td>\n",
       "      <td>232.634169</td>\n",
       "      <td>33.781539</td>\n",
       "      <td>146.904556</td>\n",
       "      <td>1.672695</td>\n",
       "      <td>0.876516</td>\n",
       "      <td>29.045584</td>\n",
       "      <td>...</td>\n",
       "      <td>Hypertension</td>\n",
       "      <td>55.494238</td>\n",
       "      <td>Fair</td>\n",
       "      <td>Normal</td>\n",
       "      <td>1.007294</td>\n",
       "      <td>6.358192</td>\n",
       "      <td>0.846246</td>\n",
       "      <td>High School</td>\n",
       "      <td>Low</td>\n",
       "      <td>24</td>\n",
       "    </tr>\n",
       "    <tr>\n",
       "      <th>1804</th>\n",
       "      <td>Male</td>\n",
       "      <td>171.698665</td>\n",
       "      <td>76.865576</td>\n",
       "      <td>164/99</td>\n",
       "      <td>211.404672</td>\n",
       "      <td>26.073423</td>\n",
       "      <td>98.526171</td>\n",
       "      <td>0.982144</td>\n",
       "      <td>0.231406</td>\n",
       "      <td>46.637613</td>\n",
       "      <td>...</td>\n",
       "      <td>Diabetes</td>\n",
       "      <td>72.180779</td>\n",
       "      <td>Excellent</td>\n",
       "      <td>Insomnia</td>\n",
       "      <td>1.005602</td>\n",
       "      <td>4.782536</td>\n",
       "      <td>0.237482</td>\n",
       "      <td>High School</td>\n",
       "      <td>Medium</td>\n",
       "      <td>67</td>\n",
       "    </tr>\n",
       "    <tr>\n",
       "      <th>326</th>\n",
       "      <td>Male</td>\n",
       "      <td>177.228611</td>\n",
       "      <td>83.459019</td>\n",
       "      <td>153/98</td>\n",
       "      <td>267.611775</td>\n",
       "      <td>26.570860</td>\n",
       "      <td>133.816463</td>\n",
       "      <td>0.091927</td>\n",
       "      <td>0.200000</td>\n",
       "      <td>71.489531</td>\n",
       "      <td>...</td>\n",
       "      <td>NaN</td>\n",
       "      <td>47.009621</td>\n",
       "      <td>Fair</td>\n",
       "      <td>Insomnia</td>\n",
       "      <td>1.000475</td>\n",
       "      <td>9.539208</td>\n",
       "      <td>9.770505</td>\n",
       "      <td>Postgraduate</td>\n",
       "      <td>Low</td>\n",
       "      <td>89</td>\n",
       "    </tr>\n",
       "    <tr>\n",
       "      <th>2189</th>\n",
       "      <td>Female</td>\n",
       "      <td>154.236278</td>\n",
       "      <td>66.051947</td>\n",
       "      <td>127/94</td>\n",
       "      <td>176.426871</td>\n",
       "      <td>27.765951</td>\n",
       "      <td>113.263628</td>\n",
       "      <td>1.269975</td>\n",
       "      <td>0.523051</td>\n",
       "      <td>27.029954</td>\n",
       "      <td>...</td>\n",
       "      <td>Heart Disease</td>\n",
       "      <td>70.415398</td>\n",
       "      <td>Good</td>\n",
       "      <td>Insomnia</td>\n",
       "      <td>1.000428</td>\n",
       "      <td>3.702588</td>\n",
       "      <td>4.234759</td>\n",
       "      <td>Undergraduate</td>\n",
       "      <td>Low</td>\n",
       "      <td>28</td>\n",
       "    </tr>\n",
       "  </tbody>\n",
       "</table>\n",
       "<p>3000 rows × 26 columns</p>\n",
       "</div>"
      ],
      "text/plain": [
       "      Gender  Height (cm)  Weight (kg) Blood Pressure (s/d)  \\\n",
       "1053  Female   157.488860    65.061187               139/84   \n",
       "966   Female   163.730370    64.878755              187/103   \n",
       "1496  Female   156.727756    64.660854              150/105   \n",
       "201   Female   165.311316    71.802302               168/93   \n",
       "1832    Male   162.468639    99.366215              153/107   \n",
       "...      ...          ...          ...                  ...   \n",
       "1742  Female   153.101065    65.387315               148/73   \n",
       "2555  Female   156.356745    82.587187               124/86   \n",
       "1804    Male   171.698665    76.865576               164/99   \n",
       "326     Male   177.228611    83.459019               153/98   \n",
       "2189  Female   154.236278    66.051947               127/94   \n",
       "\n",
       "      Cholesterol Level (mg/dL)        BMI  Blood Glucose Level (mg/dL)  \\\n",
       "1053                 196.218026  26.231450                   115.299340   \n",
       "966                  237.739981  24.201597                   135.509748   \n",
       "1496                 247.411474  26.323862                   134.341884   \n",
       "201                  236.509295  26.274424                   155.962488   \n",
       "1832                 274.177742  37.644338                   150.686463   \n",
       "...                         ...        ...                          ...   \n",
       "1742                 268.117250  27.895688                   112.637637   \n",
       "2555                 232.634169  33.781539                   146.904556   \n",
       "1804                 211.404672  26.073423                    98.526171   \n",
       "326                  267.611775  26.570860                   133.816463   \n",
       "2189                 176.426871  27.765951                   113.263628   \n",
       "\n",
       "      Bone Density (g/cm²)  Vision Sharpness  Hearing Ability (dB)  ...  \\\n",
       "1053              1.497706          0.736307             25.113472  ...   \n",
       "966               0.360586          0.200000             65.645534  ...   \n",
       "1496              0.508217          0.309987             57.767344  ...   \n",
       "201               1.520918          0.708114             46.792139  ...   \n",
       "1832             -0.012821          0.200000             66.562346  ...   \n",
       "...                    ...               ...                   ...  ...   \n",
       "1742              1.086315          0.713353             59.114878  ...   \n",
       "2555              1.672695          0.876516             29.045584  ...   \n",
       "1804              0.982144          0.231406             46.637613  ...   \n",
       "326               0.091927          0.200000             71.489531  ...   \n",
       "2189              1.269975          0.523051             27.029954  ...   \n",
       "\n",
       "     Family History Cognitive Function Mental Health Status Sleep Patterns  \\\n",
       "1053       Diabetes          73.204391                 Fair         Normal   \n",
       "966   Heart Disease          54.814537            Excellent       Insomnia   \n",
       "1496            NaN          53.606102                 Poor       Insomnia   \n",
       "201    Hypertension          78.127851            Excellent         Normal   \n",
       "1832            NaN          67.154446            Excellent       Insomnia   \n",
       "...             ...                ...                  ...            ...   \n",
       "1742            NaN          60.604529                 Fair         Normal   \n",
       "2555   Hypertension          55.494238                 Fair         Normal   \n",
       "1804       Diabetes          72.180779            Excellent       Insomnia   \n",
       "326             NaN          47.009621                 Fair       Insomnia   \n",
       "2189  Heart Disease          70.415398                 Good       Insomnia   \n",
       "\n",
       "     Stress Levels Pollution Exposure Sun Exposure  Education Level  \\\n",
       "1053      9.996323           4.053786     6.554834      High School   \n",
       "966       9.994695           1.384646     5.087317    Undergraduate   \n",
       "1496      9.991990           3.856749     4.174231     Postgraduate   \n",
       "201       9.984869           5.413626     3.408701     Postgraduate   \n",
       "1832      9.983047           3.504055     8.936955              NaN   \n",
       "...            ...                ...          ...              ...   \n",
       "1742      1.009110           4.004103     1.770026      High School   \n",
       "2555      1.007294           6.358192     0.846246      High School   \n",
       "1804      1.005602           4.782536     0.237482      High School   \n",
       "326       1.000475           9.539208     9.770505     Postgraduate   \n",
       "2189      1.000428           3.702588     4.234759    Undergraduate   \n",
       "\n",
       "     Income Level Age (years)  \n",
       "1053          Low          28  \n",
       "966           Low          79  \n",
       "1496       Medium          82  \n",
       "201          High          37  \n",
       "1832       Medium          89  \n",
       "...           ...         ...  \n",
       "1742       Medium          44  \n",
       "2555          Low          24  \n",
       "1804       Medium          67  \n",
       "326           Low          89  \n",
       "2189          Low          28  \n",
       "\n",
       "[3000 rows x 26 columns]"
      ]
     },
     "execution_count": 39,
     "metadata": {},
     "output_type": "execute_result"
    }
   ],
   "source": [
    "df_sort = df.sort_values(by = 'Stress Levels', ascending = False)\n",
    "df_sort"
   ]
  },
  {
   "cell_type": "code",
   "execution_count": 55,
   "id": "3915f77b-116c-482b-8644-2f5f11931af9",
   "metadata": {
    "id": "3915f77b-116c-482b-8644-2f5f11931af9"
   },
   "outputs": [],
   "source": [
    "df[['Blood Pressure s', 'Blood Pressure d']] = df['Blood Pressure (s/d)'].str.split('/', expand = True, n = 1)\n",
    "df['Blood Pressure s'] = df['Blood Pressure s'].astype(int)\n",
    "mean_high_stress = df.loc[df['Stress Levels'] > 7, 'Blood Pressure s'].mean()\n",
    "mean_low_stress = df.loc[df['Stress Levels'] < 3, 'Blood Pressure s'].mean()"
   ]
  },
  {
   "cell_type": "code",
   "execution_count": 56,
   "id": "6dfafb8b-230c-49ee-aa64-68ba7863062e",
   "metadata": {},
   "outputs": [
    {
     "data": {
      "text/plain": [
       "145.8617234468938"
      ]
     },
     "execution_count": 56,
     "metadata": {},
     "output_type": "execute_result"
    }
   ],
   "source": [
    "mean_high_stress"
   ]
  },
  {
   "cell_type": "code",
   "execution_count": 58,
   "id": "1b73c28a-9d35-4ebf-9190-53d884b393ab",
   "metadata": {},
   "outputs": [
    {
     "data": {
      "text/plain": [
       "145.455223880597"
      ]
     },
     "execution_count": 58,
     "metadata": {},
     "output_type": "execute_result"
    }
   ],
   "source": [
    "mean_low_stress\n",
    "#Давление одинаковое => следовательно никакой зависимости нет"
   ]
  },
  {
   "cell_type": "markdown",
   "id": "1b69ba67-61a8-4765-9795-cfab1a09e929",
   "metadata": {
    "id": "1b69ba67-61a8-4765-9795-cfab1a09e929"
   },
   "source": [
    "4. Правда ли, что уровень холестерина у мужчин и женщин отличается?"
   ]
  },
  {
   "cell_type": "code",
   "execution_count": 60,
   "id": "c78a0a7d-5151-498b-951b-1abb7c4e2e91",
   "metadata": {},
   "outputs": [
    {
     "data": {
      "text/plain": [
       "234.15302825574207"
      ]
     },
     "execution_count": 60,
     "metadata": {},
     "output_type": "execute_result"
    }
   ],
   "source": [
    "chol_level_male = df.loc[df['Gender'] == 'Female', 'Cholesterol Level (mg/dL)'].mean()\n",
    "chol_level_male"
   ]
  },
  {
   "cell_type": "code",
   "execution_count": 62,
   "id": "1228d2e9-fc56-4240-95c6-c98a8b84c016",
   "metadata": {
    "id": "1228d2e9-fc56-4240-95c6-c98a8b84c016"
   },
   "outputs": [
    {
     "data": {
      "text/plain": [
       "233.9047396169502"
      ]
     },
     "execution_count": 62,
     "metadata": {},
     "output_type": "execute_result"
    }
   ],
   "source": [
    "chol_level_male = df.loc[df['Gender'] == 'Male', 'Cholesterol Level (mg/dL)'].mean()\n",
    "chol_level_male\n",
    "#Одинаковый уровень"
   ]
  },
  {
   "cell_type": "markdown",
   "id": "5acec4fd-f740-49a8-a5d8-562d358239c9",
   "metadata": {
    "id": "5acec4fd-f740-49a8-a5d8-562d358239c9"
   },
   "source": [
    "5. Правда ли, что с возрастом женщины имеют свойство оценивать свои когнитивные способности хуже, чем в юности (порог юности - 30 лет, женщина в возрасте - 60 лет+)"
   ]
  },
  {
   "cell_type": "code",
   "execution_count": 69,
   "id": "027a1ae5-0571-4985-9cbf-7292639d78c6",
   "metadata": {},
   "outputs": [
    {
     "data": {
      "text/plain": [
       "57.665728241849315"
      ]
     },
     "execution_count": 69,
     "metadata": {},
     "output_type": "execute_result"
    }
   ],
   "source": [
    "cog_level_old = df.loc[(df['Gender'] == 'Female') & (df['Age (years)'] > 60), 'Cognitive Function'].mean()\n",
    "cog_level_old"
   ]
  },
  {
   "cell_type": "code",
   "execution_count": 70,
   "id": "cac8daef-f4e8-4c8b-b7f4-d41a6adf35ed",
   "metadata": {
    "id": "cac8daef-f4e8-4c8b-b7f4-d41a6adf35ed"
   },
   "outputs": [
    {
     "data": {
      "text/plain": [
       "72.84317149446179"
      ]
     },
     "execution_count": 70,
     "metadata": {},
     "output_type": "execute_result"
    }
   ],
   "source": [
    "cog_level_young = df.loc[(df['Gender'] == 'Female') & (df['Age (years)'] < 30), 'Cognitive Function'].mean()\n",
    "cog_level_young"
   ]
  },
  {
   "cell_type": "code",
   "execution_count": 76,
   "id": "23a219a2-03c4-4645-b528-28c48e5ac80d",
   "metadata": {},
   "outputs": [
    {
     "data": {
      "text/plain": [
       "0.20835780404984705"
      ]
     },
     "execution_count": 76,
     "metadata": {},
     "output_type": "execute_result"
    }
   ],
   "source": [
    "dif_cog_level =  1 - cog_level_old / cog_level_young\n",
    "dif_cog_level\n",
    "#Правда, женщины в возрасте оценивают себя на 20 процентов хуже"
   ]
  },
  {
   "cell_type": "markdown",
   "id": "8d6171a9-0f75-4f3e-ac54-95d03d1f70b6",
   "metadata": {
    "id": "8d6171a9-0f75-4f3e-ac54-95d03d1f70b6"
   },
   "source": [
    "6. Влияет ли физическая активность на вес в возрасте более 50 лет?"
   ]
  },
  {
   "cell_type": "code",
   "execution_count": 98,
   "id": "c64d0892-2fb8-4304-966c-5cbb32b03c0a",
   "metadata": {
    "id": "c64d0892-2fb8-4304-966c-5cbb32b03c0a"
   },
   "outputs": [],
   "source": [
    "phys_act_low = df.loc[(df['Physical Activity Level'] == 'Low') & (df['Age (years)'] > 50), 'Weight (kg)'].mean()\n",
    "phys_act_mod = df.loc[(df['Physical Activity Level'] == 'Moderate') & (df['Age (years)'] > 50), 'Weight (kg)'].mean()\n",
    "phys_act_high = df.loc[(df['Physical Activity Level'] == 'High') & (df['Age (years)'] > 50), 'Weight (kg)'].mean()"
   ]
  },
  {
   "cell_type": "code",
   "execution_count": 104,
   "id": "ff9bb9df-38c5-40ed-9c4f-7f88e4bd68b4",
   "metadata": {},
   "outputs": [
    {
     "data": {
      "text/plain": [
       "74.36552503757412"
      ]
     },
     "execution_count": 104,
     "metadata": {},
     "output_type": "execute_result"
    }
   ],
   "source": [
    "phys_act_low"
   ]
  },
  {
   "cell_type": "code",
   "execution_count": 103,
   "id": "f323303b-20e8-401c-8b4d-bbd5f5ea841b",
   "metadata": {},
   "outputs": [
    {
     "data": {
      "text/plain": [
       "72.07604748397078"
      ]
     },
     "execution_count": 103,
     "metadata": {},
     "output_type": "execute_result"
    }
   ],
   "source": [
    "phys_act_mod"
   ]
  },
  {
   "cell_type": "code",
   "execution_count": 102,
   "id": "c756349c-453d-4f5c-befb-51ae3f87f4a8",
   "metadata": {},
   "outputs": [
    {
     "data": {
      "text/plain": [
       "70.42802647863721"
      ]
     },
     "execution_count": 102,
     "metadata": {},
     "output_type": "execute_result"
    }
   ],
   "source": [
    "phys_act_high\n",
    "#Можно отметить что разница в весе между женщинами 50+ с разными уровнями физ.активности в среднем составляет 2 килограмма"
   ]
  },
  {
   "cell_type": "markdown",
   "id": "d29320f9-aef8-452c-9d61-0afa72dd93b6",
   "metadata": {
    "id": "d29320f9-aef8-452c-9d61-0afa72dd93b6"
   },
   "source": [
    "7. Сравните минимальный вес мужчин с высоким и низким заработком"
   ]
  },
  {
   "cell_type": "code",
   "execution_count": 112,
   "id": "0147fd34-a865-4101-84da-1345b5d91864",
   "metadata": {
    "id": "0147fd34-a865-4101-84da-1345b5d91864"
   },
   "outputs": [
    {
     "data": {
      "text/plain": [
       "36.19276502392557"
      ]
     },
     "execution_count": 112,
     "metadata": {},
     "output_type": "execute_result"
    }
   ],
   "source": [
    "min_income_weight = df.loc[df['Income Level'] == 'Low', 'Weight (kg)'].min()\n",
    "min_income_weight"
   ]
  },
  {
   "cell_type": "code",
   "execution_count": 113,
   "id": "183f847d-648a-4734-9367-a92f6c91bbcc",
   "metadata": {},
   "outputs": [
    {
     "data": {
      "text/plain": [
       "32.53767213511866"
      ]
     },
     "execution_count": 113,
     "metadata": {},
     "output_type": "execute_result"
    }
   ],
   "source": [
    "high_income_weight = df.loc[df['Income Level'] == 'High', 'Weight (kg)'].min()\n",
    "high_income_weight"
   ]
  },
  {
   "cell_type": "code",
   "execution_count": 117,
   "id": "05e51122-261b-4de4-9f01-fabaf18a9ce7",
   "metadata": {},
   "outputs": [
    {
     "data": {
      "text/plain": [
       "3.655092888806905"
      ]
     },
     "execution_count": 117,
     "metadata": {},
     "output_type": "execute_result"
    }
   ],
   "source": [
    "min_income_weight - high_income_weight\n",
    "#Разница 3кг - возможно влияет уровень стресса, а возможно просто погрешность(интересно проверить)"
   ]
  },
  {
   "cell_type": "markdown",
   "id": "1d447d6e-cfde-411c-9078-cd8f41f02d8b",
   "metadata": {
    "id": "1d447d6e-cfde-411c-9078-cd8f41f02d8b"
   },
   "source": [
    "8. Правда ли, что у людей с индексом массы тела больше 75го перцентиля встречаются хронические заболевания чаще, чем у людей с индесом массы тела в переделах от 30 до 60 перцентиля?"
   ]
  },
  {
   "cell_type": "code",
   "execution_count": 118,
   "id": "b30df6b1-5eca-43da-a115-1c1a3cbfd899",
   "metadata": {
    "id": "b30df6b1-5eca-43da-a115-1c1a3cbfd899"
   },
   "outputs": [
    {
     "data": {
      "text/plain": [
       "0                NaN\n",
       "1       Hypertension\n",
       "2       Hypertension\n",
       "3           Diabetes\n",
       "4                NaN\n",
       "            ...     \n",
       "2995    Hypertension\n",
       "2996        Diabetes\n",
       "2997             NaN\n",
       "2998        Diabetes\n",
       "2999    Hypertension\n",
       "Name: Chronic Diseases, Length: 3000, dtype: object"
      ]
     },
     "execution_count": 118,
     "metadata": {},
     "output_type": "execute_result"
    }
   ],
   "source": [
    "df['Chronic Diseases']"
   ]
  },
  {
   "cell_type": "markdown",
   "id": "c41d5d99-65f7-4d17-82ae-971ec959f327",
   "metadata": {
    "id": "c41d5d99-65f7-4d17-82ae-971ec959f327"
   },
   "source": [
    "9. Правда ли, что люди с высоким уровнем дохода имеют больший уровень физической активности, чем люди с низким доходом"
   ]
  },
  {
   "cell_type": "code",
   "execution_count": null,
   "id": "275bcc04-659b-4521-a9e5-200a5f4ef674",
   "metadata": {
    "id": "275bcc04-659b-4521-a9e5-200a5f4ef674"
   },
   "outputs": [],
   "source": []
  },
  {
   "cell_type": "markdown",
   "id": "a1f7a5c0-259c-4837-a5d1-2dfc05e7c13e",
   "metadata": {
    "id": "a1f7a5c0-259c-4837-a5d1-2dfc05e7c13e"
   },
   "source": [
    "10. Какая доля мужчин с высокой частотой пребывания на солнце имеет высокий заработок?"
   ]
  },
  {
   "cell_type": "code",
   "execution_count": null,
   "id": "a2da4d57-edb4-4179-8bee-3deda6cd00e6",
   "metadata": {
    "id": "a2da4d57-edb4-4179-8bee-3deda6cd00e6"
   },
   "outputs": [],
   "source": []
  },
  {
   "cell_type": "markdown",
   "id": "deb4ca3a-3d8a-4205-bee9-d26fd28638b2",
   "metadata": {
    "id": "deb4ca3a-3d8a-4205-bee9-d26fd28638b2"
   },
   "source": [
    "### 3. Визуализация"
   ]
  },
  {
   "cell_type": "markdown",
   "id": "f8941ce1-cbf2-465a-b013-1b84aeb999ef",
   "metadata": {
    "id": "f8941ce1-cbf2-465a-b013-1b84aeb999ef"
   },
   "source": [
    "Используя библиотеки matplotlib/sns/plotly/pandas и набор данных представленный ранее визуализируйте"
   ]
  },
  {
   "cell_type": "markdown",
   "id": "5e98ce6f-8d02-4120-ad85-241494c038d6",
   "metadata": {
    "id": "5e98ce6f-8d02-4120-ad85-241494c038d6"
   },
   "source": [
    "1. Визуализируйте частоту встречаемых хронических заболеваний"
   ]
  },
  {
   "cell_type": "code",
   "execution_count": null,
   "id": "664666b2-17b7-49dd-a3bd-c4be9361755d",
   "metadata": {
    "id": "664666b2-17b7-49dd-a3bd-c4be9361755d"
   },
   "outputs": [],
   "source": []
  },
  {
   "cell_type": "markdown",
   "id": "4c7500bb-36ca-4ea7-bc3c-4f15afbd4c41",
   "metadata": {
    "id": "4c7500bb-36ca-4ea7-bc3c-4f15afbd4c41"
   },
   "source": [
    "2. Как связана оценка собственных когнитивных функций с уровнем стресса?"
   ]
  },
  {
   "cell_type": "code",
   "execution_count": null,
   "id": "7325e7f8-5f00-4a82-8184-7064505f7ccd",
   "metadata": {
    "id": "7325e7f8-5f00-4a82-8184-7064505f7ccd"
   },
   "outputs": [],
   "source": []
  },
  {
   "cell_type": "markdown",
   "id": "efdd0669-36e0-4708-ac6b-ad0d92881113",
   "metadata": {
    "id": "efdd0669-36e0-4708-ac6b-ad0d92881113"
   },
   "source": [
    "3. Визуализируйте как зависит вес от роста человека"
   ]
  },
  {
   "cell_type": "code",
   "execution_count": null,
   "id": "7504a170-04a1-4b86-924d-8d46be16fd3c",
   "metadata": {
    "id": "7504a170-04a1-4b86-924d-8d46be16fd3c"
   },
   "outputs": [],
   "source": []
  },
  {
   "cell_type": "markdown",
   "id": "b5839a48-e992-45fc-81ee-59cb5aa79dda",
   "metadata": {
    "id": "b5839a48-e992-45fc-81ee-59cb5aa79dda"
   },
   "source": [
    "4. Постройте box plot отображающий распределение уровня стресса у людей с различным уровнем дохода"
   ]
  },
  {
   "cell_type": "code",
   "execution_count": null,
   "id": "1a942378-45ea-47a0-bac9-488960491613",
   "metadata": {
    "id": "1a942378-45ea-47a0-bac9-488960491613"
   },
   "outputs": [],
   "source": []
  },
  {
   "cell_type": "markdown",
   "id": "d4c97bef-bb64-43cc-a89f-7510174492ec",
   "metadata": {
    "id": "d4c97bef-bb64-43cc-a89f-7510174492ec"
   },
   "source": [
    "5. Постройте круговую диаграмму отображающую как ментальное здоровье связано с паттернами сна"
   ]
  },
  {
   "cell_type": "code",
   "execution_count": null,
   "id": "a1f444af-3544-432c-8dc6-bb74d4cff272",
   "metadata": {
    "id": "a1f444af-3544-432c-8dc6-bb74d4cff272"
   },
   "outputs": [],
   "source": []
  },
  {
   "cell_type": "markdown",
   "id": "16249674-e680-4ab0-a16a-4e98c24202ed",
   "metadata": {
    "id": "16249674-e680-4ab0-a16a-4e98c24202ed"
   },
   "source": [
    "6. Имеет ли связь зрение и способность слышать звуки на высоких частотах? Ответьте на вопрос - какая зависимость между ними и предположите почему зависимость именно такая?"
   ]
  },
  {
   "cell_type": "code",
   "execution_count": null,
   "id": "fb885fd6-e539-4227-8fcf-2eee4c99f598",
   "metadata": {
    "id": "fb885fd6-e539-4227-8fcf-2eee4c99f598"
   },
   "outputs": [],
   "source": []
  },
  {
   "cell_type": "markdown",
   "id": "16afdeec-8c90-4ed1-a599-e0b1343bbf5c",
   "metadata": {
    "id": "16afdeec-8c90-4ed1-a599-e0b1343bbf5c"
   },
   "source": [
    "7. Красиво визуализируйте как связаны между собой уровень дохода, когнитивные способности и уровень стресса*\n",
    "\n",
    "\\* Задание на доп. балл"
   ]
  },
  {
   "cell_type": "code",
   "execution_count": null,
   "id": "e10d0cc7-a1ca-4204-a875-b1660e44618d",
   "metadata": {
    "id": "e10d0cc7-a1ca-4204-a875-b1660e44618d"
   },
   "outputs": [],
   "source": []
  }
 ],
 "metadata": {
  "colab": {
   "provenance": []
  },
  "kernelspec": {
   "display_name": "Python 3 (ipykernel)",
   "language": "python",
   "name": "python3"
  },
  "language_info": {
   "codemirror_mode": {
    "name": "ipython",
    "version": 3
   },
   "file_extension": ".py",
   "mimetype": "text/x-python",
   "name": "python",
   "nbconvert_exporter": "python",
   "pygments_lexer": "ipython3",
   "version": "3.12.1"
  }
 },
 "nbformat": 4,
 "nbformat_minor": 5
}
